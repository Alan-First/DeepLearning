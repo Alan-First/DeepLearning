{
 "cells": [
  {
   "cell_type": "code",
   "execution_count": 1,
   "metadata": {},
   "outputs": [],
   "source": [
    "#!/usr/bin/env python\n",
    "# -*- encoding: utf-8 -*-\n",
    "'''\n",
    "@File         :Bertology.ipynb\n",
    "@Description  :\n",
    "@Time         :2022/04/29 06:10:09\n",
    "@Author       :Hedwig\n",
    "@Version      :1.0\n",
    "'''\n",
    "from transformers import *\n",
    "import torch"
   ]
  },
  {
   "cell_type": "markdown",
   "metadata": {},
   "source": [
    "# bert使用"
   ]
  },
  {
   "cell_type": "code",
   "execution_count": null,
   "metadata": {},
   "outputs": [],
   "source": [
    "# Transformer库中，每个预训练的模型都会被分成3个子文件，这三个子文件分别在不同的代码文件中加载运行\n",
    "# 词表文件：输入单词转具体数字\n",
    "# 配置文件：放置模型超参数，实例化模型时使用\n",
    "# 模型权重文件：模型的权值"
   ]
  },
  {
   "cell_type": "code",
   "execution_count": null,
   "metadata": {},
   "outputs": [],
   "source": [
    "# transformers文件夹下\n",
    "# 以configuration开头的是bertology的配置文件\n",
    "# 以modeling开头的是bertology的模型代码文件\n",
    "# 以tokenization开头的是词表代码文件\n",
    "# 以bert为例，\n",
    "# (1)根据唯一标识符找到词表和配置文件\n",
    "# 配置文件是configuration_bert文件，打开能看到模型下载链接放在BERT_PRETRAINED_CONFIG_ARCHIVE_MAP字典里\n",
    "# tokenization_bert.py文件里有对应的PRETRAINED_VOCAB_FILES_MAP存储词汇表下载链接\n",
    "# (2)根据唯一标识符找到模型文件\n",
    "# 模型文件的下载链接命名统一为{下载渠道}/{模型id}/{文件名} \n",
    "# 模型文件的下载在transformer目录下的file_utils.py文件里，有多个下载渠道，通过函数hf_bucket_url实现\n",
    "# 将参数列表use_cdn指定为True实现cdn链接，向mirror传入tuna或bfsu实现两种清华大学镜像\n",
    "# 使用时传入from_pretrained函数就可以，它是hf_bucket_url的上层函数\n",
    "# (3)加载预训练模型\n",
    "# 加载预训练模型需要模型代码文件、配置代码文件和词表代码文件，通过三个类实现\n",
    "# 配置文件类：configuration class\n",
    "# 模型类：model class\n",
    "# 词表工具类：tokenizer class\n",
    "# 除了from_pretrained()方法外，还有save_pretraining()方法将模型代码文件、配置代码文件和词表代码文件保存本地 "
   ]
  },
  {
   "cell_type": "code",
   "execution_count": 3,
   "metadata": {},
   "outputs": [
    {
     "name": "stderr",
     "output_type": "stream",
     "text": [
      "loading file https://huggingface.co/bert-base-uncased/resolve/main/vocab.txt from cache at /home/mist/.cache/huggingface/transformers/45c3f7a79a80e1cf0a489e5c62b43f173c15db47864303a55d623bb3c96f72a5.d789d64ebfe299b0e416afc4a169632f903f693095b4629a7ea271d5a0cf2c99\n",
      "loading file https://huggingface.co/bert-base-uncased/resolve/main/added_tokens.json from cache at None\n",
      "loading file https://huggingface.co/bert-base-uncased/resolve/main/special_tokens_map.json from cache at None\n",
      "loading file https://huggingface.co/bert-base-uncased/resolve/main/tokenizer_config.json from cache at /home/mist/.cache/huggingface/transformers/c1d7f0a763fb63861cc08553866f1fc3e5a6f4f07621be277452d26d71303b7e.20430bd8e10ef77a7d2977accefe796051e01bc2fc4aa146bc862997a1a15e79\n",
      "loading configuration file https://huggingface.co/bert-base-uncased/resolve/main/config.json from cache at /home/mist/.cache/huggingface/transformers/3c61d016573b14f7f008c02c4e51a366c67ab274726fe2910691e2a761acf43e.37395cee442ab11005bcd270f3c34464dc1704b715b5d7d52b1a461abe3b9e4e\n",
      "Model config BertConfig {\n",
      "  \"_name_or_path\": \"bert-base-uncased\",\n",
      "  \"architectures\": [\n",
      "    \"BertForMaskedLM\"\n",
      "  ],\n",
      "  \"attention_probs_dropout_prob\": 0.1,\n",
      "  \"classifier_dropout\": null,\n",
      "  \"gradient_checkpointing\": false,\n",
      "  \"hidden_act\": \"gelu\",\n",
      "  \"hidden_dropout_prob\": 0.1,\n",
      "  \"hidden_size\": 768,\n",
      "  \"initializer_range\": 0.02,\n",
      "  \"intermediate_size\": 3072,\n",
      "  \"layer_norm_eps\": 1e-12,\n",
      "  \"max_position_embeddings\": 512,\n",
      "  \"model_type\": \"bert\",\n",
      "  \"num_attention_heads\": 12,\n",
      "  \"num_hidden_layers\": 12,\n",
      "  \"pad_token_id\": 0,\n",
      "  \"position_embedding_type\": \"absolute\",\n",
      "  \"transformers_version\": \"4.18.0\",\n",
      "  \"type_vocab_size\": 2,\n",
      "  \"use_cache\": true,\n",
      "  \"vocab_size\": 30522\n",
      "}\n",
      "\n",
      "loading configuration file https://huggingface.co/bert-base-uncased/resolve/main/config.json from cache at /home/mist/.cache/huggingface/transformers/3c61d016573b14f7f008c02c4e51a366c67ab274726fe2910691e2a761acf43e.37395cee442ab11005bcd270f3c34464dc1704b715b5d7d52b1a461abe3b9e4e\n",
      "Model config BertConfig {\n",
      "  \"architectures\": [\n",
      "    \"BertForMaskedLM\"\n",
      "  ],\n",
      "  \"attention_probs_dropout_prob\": 0.1,\n",
      "  \"classifier_dropout\": null,\n",
      "  \"gradient_checkpointing\": false,\n",
      "  \"hidden_act\": \"gelu\",\n",
      "  \"hidden_dropout_prob\": 0.1,\n",
      "  \"hidden_size\": 768,\n",
      "  \"initializer_range\": 0.02,\n",
      "  \"intermediate_size\": 3072,\n",
      "  \"layer_norm_eps\": 1e-12,\n",
      "  \"max_position_embeddings\": 512,\n",
      "  \"model_type\": \"bert\",\n",
      "  \"num_attention_heads\": 12,\n",
      "  \"num_hidden_layers\": 12,\n",
      "  \"pad_token_id\": 0,\n",
      "  \"position_embedding_type\": \"absolute\",\n",
      "  \"transformers_version\": \"4.18.0\",\n",
      "  \"type_vocab_size\": 2,\n",
      "  \"use_cache\": true,\n",
      "  \"vocab_size\": 30522\n",
      "}\n",
      "\n",
      "loading weights file https://huggingface.co/bert-base-uncased/resolve/main/pytorch_model.bin from cache at /home/mist/.cache/huggingface/transformers/a8041bf617d7f94ea26d15e218abd04afc2004805632abc0ed2066aa16d50d04.faf6ea826ae9c5867d12b22257f9877e6b8367890837bd60f7c54a29633f7f2f\n",
      "Some weights of the model checkpoint at bert-base-uncased were not used when initializing BertModel: ['cls.predictions.transform.LayerNorm.weight', 'cls.predictions.transform.dense.bias', 'cls.predictions.decoder.weight', 'cls.predictions.transform.LayerNorm.bias', 'cls.predictions.transform.dense.weight', 'cls.seq_relationship.weight', 'cls.predictions.bias', 'cls.seq_relationship.bias']\n",
      "- This IS expected if you are initializing BertModel from the checkpoint of a model trained on another task or with another architecture (e.g. initializing a BertForSequenceClassification model from a BertForPreTraining model).\n",
      "- This IS NOT expected if you are initializing BertModel from the checkpoint of a model that you expect to be exactly identical (initializing a BertForSequenceClassification model from a BertForSequenceClassification model).\n",
      "All the weights of BertModel were initialized from the model checkpoint at bert-base-uncased.\n",
      "If your task is similar to the task the model of the checkpoint was trained on, you can already use BertModel for predictions without further training.\n"
     ]
    }
   ],
   "source": [
    "# 自动加载\n",
    "tokenizer = BertTokenizer.from_pretrained('bert-base-uncased')# 加载词表\n",
    "model = BertModel.from_pretrained('bert-base-uncased')# 加载模型和配置文件\n",
    "# 执行以后默认放在用户的.cache/torch/transformers路径，通过cache_dir参数修改这个路径"
   ]
  },
  {
   "cell_type": "code",
   "execution_count": 8,
   "metadata": {},
   "outputs": [
    {
     "name": "stderr",
     "output_type": "stream",
     "text": [
      "Configuration saved in ./bert-base-uncased/config.json\n",
      "Model weights saved in ./bert-base-uncased/pytorch_model.bin\n"
     ]
    }
   ],
   "source": [
    "#tokenizer.save_pretrained(save_directory='./bert-base-uncased')\n",
    "model.save_pretrained(save_directory='./bert-base-uncased')\n"
   ]
  },
  {
   "cell_type": "code",
   "execution_count": 9,
   "metadata": {},
   "outputs": [
    {
     "name": "stderr",
     "output_type": "stream",
     "text": [
      "Didn't find file ./bert-base-uncased/added_tokens.json. We won't load it.\n",
      "loading file ./bert-base-uncased/vocab.txt\n",
      "loading file None\n",
      "loading file ./bert-base-uncased/special_tokens_map.json\n",
      "loading file ./bert-base-uncased/tokenizer_config.json\n",
      "loading configuration file ./bert-base-uncased/config.json\n",
      "Model config BertConfig {\n",
      "  \"_name_or_path\": \"bert-base-uncased\",\n",
      "  \"architectures\": [\n",
      "    \"BertModel\"\n",
      "  ],\n",
      "  \"attention_probs_dropout_prob\": 0.1,\n",
      "  \"classifier_dropout\": null,\n",
      "  \"gradient_checkpointing\": false,\n",
      "  \"hidden_act\": \"gelu\",\n",
      "  \"hidden_dropout_prob\": 0.1,\n",
      "  \"hidden_size\": 768,\n",
      "  \"initializer_range\": 0.02,\n",
      "  \"intermediate_size\": 3072,\n",
      "  \"layer_norm_eps\": 1e-12,\n",
      "  \"max_position_embeddings\": 512,\n",
      "  \"model_type\": \"bert\",\n",
      "  \"num_attention_heads\": 12,\n",
      "  \"num_hidden_layers\": 12,\n",
      "  \"pad_token_id\": 0,\n",
      "  \"position_embedding_type\": \"absolute\",\n",
      "  \"torch_dtype\": \"float32\",\n",
      "  \"transformers_version\": \"4.18.0\",\n",
      "  \"type_vocab_size\": 2,\n",
      "  \"use_cache\": true,\n",
      "  \"vocab_size\": 30522\n",
      "}\n",
      "\n",
      "loading weights file ./bert-base-uncased/pytorch_model.bin\n",
      "All model checkpoint weights were used when initializing BertModel.\n",
      "\n",
      "All the weights of BertModel were initialized from the model checkpoint at ./bert-base-uncased.\n",
      "If your task is similar to the task the model of the checkpoint was trained on, you can already use BertModel for predictions without further training.\n"
     ]
    }
   ],
   "source": [
    "# 手动加载\n",
    "tokenizer = BertTokenizer.from_pretrained('./bert-base-uncased')# 加载词表\n",
    "model = BertModel.from_pretrained('./bert-base-uncased')# 加载模型和配置文件，集成一步\n",
    "# 方法几乎完全一样，但是这时候参数是个路径"
   ]
  },
  {
   "cell_type": "code",
   "execution_count": null,
   "metadata": {},
   "outputs": [],
   "source": [
    "# 查看Transformers中可以使用的模型在__init__.py文件\n",
    "# 代码输出Transformers库的宏定义\n",
    "print(BERT_PRETRAINED_MODEL_ARCHIVE_LIST)# 这些都是bert系列，对于其他bart等方法类似"
   ]
  },
  {
   "cell_type": "markdown",
   "metadata": {},
   "source": [
    "# 词表工具使用"
   ]
  },
  {
   "cell_type": "code",
   "execution_count": null,
   "metadata": {},
   "outputs": [],
   "source": [
    "# Tokenizer词表工具是用Rust编写的，提供了多个不同组件\n",
    "# Normalizer：输入字符规范化转换，如文本大小写转换、Unicode规范化\n",
    "# PreTokenizer：输入数据的预处理。如基于字节、空格、字符等分割\n",
    "# Model：生成和使用子词模型如WordLevel、BPE、WordPiece\n",
    "# Post-Processor：文本二次处理，如在Bert中用BertProcessor为文本添加特殊标识\n",
    "# Decoder：输入向量转字符串\n",
    "# Trainer：为每个模型提供培训能力\n",
    "# Tokenizer中，主要通过PreTrainedTokenizer类实现对外接口的使用 "
   ]
  },
  {
   "cell_type": "code",
   "execution_count": 4,
   "metadata": {},
   "outputs": [
    {
     "name": "stderr",
     "output_type": "stream",
     "text": [
      "Didn't find file bert-base-uncased/added_tokens.json. We won't load it.\n",
      "loading file bert-base-uncased/vocab.txt\n",
      "loading file None\n",
      "loading file bert-base-uncased/special_tokens_map.json\n",
      "loading file bert-base-uncased/tokenizer_config.json\n",
      "Using bos_token, but it is not set yet.\n",
      "Using eos_token, but it is not set yet.\n"
     ]
    },
    {
     "name": "stdout",
     "output_type": "stream",
     "text": [
      "bos_token None\n",
      "eos_token None\n",
      "unk_token [UNK]\n",
      "sep_token [SEP]\n",
      "pad_token [PAD]\n",
      "cls_token [CLS]\n",
      "mask_token [MASK]\n",
      "additional_special_tokens []\n",
      "mask_token [MASK] 103\n"
     ]
    }
   ],
   "source": [
    "tokenizer = BertTokenizer.from_pretrained('bert-base-uncased')# 加载词表\n",
    "for tokenstr in tokenizer.SPECIAL_TOKENS_ATTRIBUTES:\n",
    "    strto = \"tokenizer.\"+tokenstr\n",
    "    print(tokenstr,eval(strto))\n",
    "# unk_token:未知标识\n",
    "# sep_token:句子结束标识\n",
    "# pad_token:填充标识\n",
    "# cls_token: 开始标识\n",
    "# mask_token:遮挡词标识\n",
    "# additional_special_tokens：扩充自定义\n",
    "print(\"mask_token\",tokenizer.mask_token,tokenizer.mask_token_id)# 查看id"
   ]
  },
  {
   "cell_type": "code",
   "execution_count": 6,
   "metadata": {},
   "outputs": [
    {
     "name": "stdout",
     "output_type": "stream",
     "text": [
      "[101, 2040, 2003, 5622, 9743, 19991, 1029, 102, 5622, 9743, 19991, 2003, 1037, 20273, 102]\n",
      "['[CLS]', 'who', 'is', 'li', 'jin', '##hong', '?', '[SEP]']\n",
      "[CLS] who is li jinhong? [SEP] li jinhong is a programmer [SEP]\n"
     ]
    }
   ],
   "source": [
    "# tokenizer的tokenize方法可以分词，而一般用encode方法直接加特殊词、分词、转换成词向量一步到位\n",
    "one_toind = tokenizer.encode(\"Who is Li Jinhong ? \")\n",
    "two_toind = tokenizer.encode(\"Li Jinhong is a programmer\")\n",
    "all_toidx = one_toind+two_toind[1:]\n",
    "print(all_toidx)\n",
    "print(tokenizer.convert_ids_to_tokens(one_toind))\n",
    "print(tokenizer.decode(all_toidx)) #解码一步到位"
   ]
  },
  {
   "cell_type": "code",
   "execution_count": 7,
   "metadata": {},
   "outputs": [
    {
     "name": "stdout",
     "output_type": "stream",
     "text": [
      "li jinhong is a programmer\n"
     ]
    }
   ],
   "source": [
    "# encode参数列表\n",
    "# text：第一个句子\n",
    "# text_pair：第二个句子\n",
    "# add_special_tokens：是否添加特殊词 \n",
    "# max_length：最大长度，超过这个长度会截断，截断保留标识符\n",
    "# stride：----\n",
    "# truncation_strategy：截断策略 \n",
    "# padding：是否填充长度不足句子，是则选'max_length'\n",
    "# return_tensors：返回的张量类型，None、tf、pt\n",
    "# 截断策略有四个取值，'longest_first'输入两个句子时，从较长难过的句子处理，截断使得小于max_lenth\n",
    "# 'only_first''only_second'只截断一个 不截断\n",
    "padded_sequence = tokenizer.encode(\n",
    "    \"Li Jinhong is a programmer\",\n",
    "    add_special_tokens=False\n",
    ")\n",
    "print(tokenizer.decode(padded_sequence))"
   ]
  },
  {
   "cell_type": "code",
   "execution_count": 11,
   "metadata": {},
   "outputs": [
    {
     "name": "stdout",
     "output_type": "stream",
     "text": [
      "{'input_ids': [101, 5622, 9743, 19991, 2003, 1037, 20273, 102, 0, 0], 'token_type_ids': [0, 0, 0, 0, 0, 0, 0, 0, 0, 0], 'attention_mask': [1, 1, 1, 1, 1, 1, 1, 1, 0, 0]}\n"
     ]
    }
   ],
   "source": [
    "# encode_plus，编码的同时返回掩码标识和被截断词信息\n",
    "padded_plus_sequence_id = tokenizer.encode_plus(\n",
    "    \"Li Jinhong is a programmer\",\n",
    "    max_length=10,\n",
    "    padding='max_length'\n",
    ")\n",
    "print(padded_plus_sequence_id)"
   ]
  },
  {
   "cell_type": "code",
   "execution_count": 14,
   "metadata": {},
   "outputs": [
    {
     "name": "stdout",
     "output_type": "stream",
     "text": [
      "{'input_ids': [[101, 2023, 2003, 1037, 7099, 102], [101, 2023, 2003, 2178, 2936, 7099, 3793, 102]], 'token_type_ids': [[0, 0, 0, 0, 0, 0], [0, 0, 0, 0, 0, 0, 0, 0]], 'attention_mask': [[1, 1, 1, 1, 1, 1], [1, 1, 1, 1, 1, 1, 1, 1]]}\n"
     ]
    }
   ],
   "source": [
    "# batch_encode_plus:批处理\n",
    "tokens = tokenizer.batch_encode_plus(\n",
    "    [\"This is a sample\",\"This is another longer sample text\"]\n",
    ")\n",
    "print(tokens)"
   ]
  },
  {
   "cell_type": "code",
   "execution_count": 17,
   "metadata": {},
   "outputs": [
    {
     "name": "stderr",
     "output_type": "stream",
     "text": [
      "Assigning ['<#>'] to the additional_special_tokens key of the tokenizer\n",
      "Adding <#> to the vocabulary\n"
     ]
    },
    {
     "name": "stdout",
     "output_type": "stream",
     "text": [
      "[] []\n",
      "['[CLS]', '<', '#', '>', 'yes', '<', '#', '>', '[SEP]']\n",
      "30522\n",
      "['<#>'] [30522]\n",
      "['[CLS]', '<#>', 'yes', '<#>', '[SEP]']\n",
      "30523\n"
     ]
    }
   ],
   "source": [
    "# 向PerTrainedTokenizer添加特殊词\n",
    "# 添加普通词add_tokens()，添加特殊词add_special_tokens()\n",
    "print(tokenizer.additional_special_tokens,tokenizer.additional_special_tokens_ids)# 全空\n",
    "toind = tokenizer.encode('<#> yes <#>')\n",
    "print(tokenizer.convert_ids_to_tokens(toind))# 编码以后达到的数组\n",
    "print(len(tokenizer))# 词表长度\n",
    "# 添加特殊词\n",
    "special_token_dict = {'additional_special_tokens':[\"<#>\"]}\n",
    "tokenizer.add_special_tokens(special_token_dict)\n",
    "print(tokenizer.additional_special_tokens,tokenizer.additional_special_tokens_ids)\n",
    "toind = tokenizer.encode('<#> yes <#>')\n",
    "print(tokenizer.convert_ids_to_tokens(toind))\n",
    "print(len(tokenizer))"
   ]
  },
  {
   "cell_type": "markdown",
   "metadata": {},
   "source": [
    "# 手动加载GPT-2模型权值的方式将句子补充完整"
   ]
  },
  {
   "cell_type": "code",
   "execution_count": null,
   "metadata": {},
   "outputs": [],
   "source": [
    "# 见GPT2Test.py\n",
    "# "
   ]
  }
 ],
 "metadata": {
  "interpreter": {
   "hash": "31f2aee4e71d21fbe5cf8b01ff0e069b9275f58929596ceb00d14d90e3e16cd6"
  },
  "kernelspec": {
   "display_name": "Python 3.6.9 64-bit",
   "language": "python",
   "name": "python3"
  },
  "language_info": {
   "codemirror_mode": {
    "name": "ipython",
    "version": 3
   },
   "file_extension": ".py",
   "mimetype": "text/x-python",
   "name": "python",
   "nbconvert_exporter": "python",
   "pygments_lexer": "ipython3",
   "version": "3.6.9"
  },
  "orig_nbformat": 4
 },
 "nbformat": 4,
 "nbformat_minor": 2
}
