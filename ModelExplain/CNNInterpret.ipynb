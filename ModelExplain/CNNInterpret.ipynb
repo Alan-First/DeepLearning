{
 "cells": [
  {
   "cell_type": "code",
   "execution_count": null,
   "metadata": {},
   "outputs": [],
   "source": [
    "#from turtle import forward\n",
    "import spacy\n",
    "import torch\n",
    "#from torch import embedding\n",
    "import torch.nn.functional as F\n",
    "from captum.attr import (\n",
    "    IntegratedGradients,TokenReferenceBase,visualization,configure_interpretable_embedding_layer,\n",
    "    remove_interpretable_embedding_layer\n",
    ")\n",
    "from TextCNN import TextCNN,TEXT,LABEL\n",
    "\n",
    "# Captum是一个基于pytorch的模型可解释库，它实现了当今主流神经网络可解释性算法：如集成梯度、深度弯曲\n",
    "# 和传导等。它有一个可视化工具Captum Insights，目前只支持集成梯度\n",
    "# 梯度积分：输入数据特征从无到有的过程中，计算每个阶段的梯度并将它们加起来\n",
    "# 在NLP中，输入词id先经过词嵌入向量表将词转为词嵌入，词嵌入送入神经网络更新网络参数\n",
    "# 在分析词嵌入模型时，一般会将第一步隔离起来，直接对映射好的词嵌入做梯度积分\n",
    "# captum中有一个configure_interpretable_embedding_layer可以将原有模型的词嵌入层包装起来，并支持\n",
    "# 对词嵌入权值单独提取，用它配合梯度积分算法能实现词嵌入的可解释性\n",
    "  \n",
    "class TextCNNInterpret(TextCNN):\n",
    "    def __init__(self,*args,**kwargs):# 透传参数\n",
    "        super().__init__(*args,**kwargs)\n",
    "    def forward(self,text):\n",
    "        # 删除了父类中调换维度的部分，这样的模型是不能直接运行的\n",
    "        embedded = self.embedding(text)# 从词嵌入开始处理\n",
    "        # 以下与父类一样\n",
    "        embedded = embedded.unsqueeze(1) #形状为[batch size, 1, sent len, emb dim]\n",
    "        #len(filter_sizes)个元素，每个元素形状为[batch size, n_filters, sent len - filter_sizes[n] + 1]\n",
    "        conved = [self.mish(conv(embedded)).squeeze(3) for conv in self.convs]\n",
    "        #len(filter_sizes)个元素，每个元素形状为[batch size, n_filters]\n",
    "        pooled = [F.max_pool1d(conv, conv.shape[2]).squeeze(2) for conv in conved]\n",
    "        cat = self.dropout(torch.cat(pooled, dim = 1))#形状为[batch size, n_filters * len(filter_sizes)]\n",
    "        return self.fc(cat)\n",
    "\n",
    "# d定义模型参数\n",
    "INPUT_DIM = len(TEXT.vocab)#25002\n",
    "EMBEDDING_DIM = TEXT.vocab.vectors.size()[1]#100\n",
    "N_FILTERS = 100\n",
    "FILTER_SIZES = [3,4,5]\n",
    "OUTPUT_DIM = 1\n",
    "DROPOUT = 0.5\n",
    "PAD_IDX = TEXT.vocab.stoi[TEXT.pad_token]\n",
    "#实例化模型\n",
    "model = TextCNNInterpret(\n",
    "    INPUT_DIM,EMBEDDING_DIM,N_FILTERS,FILTER_SIZES,OUTPUT_DIM,DROPOUT,PAD_IDX\n",
    ")\n",
    "model.load_state_dict(torch.load('textcnn-model.pt'))\n",
    "print('Vocabulary Size:',len(TEXT.vocab))\n",
    "# 提取词嵌入层的部分，调用configure_interpretable_embedding_layer函数\n",
    "# 参数是指定的模型对象和模型嵌入层，该函数根据这些信息提取嵌入层并封装 \n",
    "interpretable_embedding = configure_interpretable_embedding_layer(model,'embedding')\n",
    "\n",
    "ig = IntegratedGradients(model)# 创建梯度积分对象\n",
    "vis_data_records_ig = []# 定义列表，存放可视化记录\n",
    "nlp = spacy.load('en_core_web_sm')# 为分词库加载英文语言包\n",
    "def interpret_sentence(model,sentence,min_len=7,label=0):\n",
    "    sentence = sentence.lower() #句子转小写\n",
    "    model.eval()\n",
    "    # 分词处理\n",
    "    text = [tok.text for tok in nlp.tokenizer(sentence)]\n",
    "    if len(text)< min_len:\n",
    "        text += [TEXT.pad_token]*(min_len-len(text))\n",
    "    # 句子中的单词转索引\n",
    "    indexed = [TEXT.vocab.stoi[t] for t in text]\n",
    "    model.zero_grad()\n",
    "    input_indices = torch.LongTensor(indexed)#转张量\n",
    "    input_indices = input_indices.unsqueeze(0)#添加维度\n",
    "    input_embedding = interpretable_embedding.indices_to_embeddings(input_indices)\n",
    "    # 词嵌入输入模型预测\n",
    "    pred = torch.sigmoid(model(input_embedding)).item()\n",
    "    pred_ind = round(pred)\n",
    "\n",
    "    # 创建梯度积分的初始输入值，创建与输入等长的pad数组转为词向量\n",
    "    PAD_IDX = TEXT.vocab.stoi[TEXT.pad_token]\n",
    "    token_reference = TokenReferenceBase(reference_token_idx=PAD_IDX)\n",
    "    # 制作初始输入索引：复制指定长度个token_reference，扩展维度\n",
    "    reference_indices = token_reference.generate_reference(len(indexed),device='cpu').unsqueeze(0)\n",
    "    print('reference_indices',reference_indices)\n",
    "    # 输入索引转词嵌入\n",
    "    reference_embedding = interpretable_embedding.indices_to_embeddings(reference_indices)\n",
    "    # 梯度积分计算可解释性\n",
    "    # 将\"从全pad词向量，到输入句子词向量\"，均匀分500份，依次放到模型，求出相邻分数的梯度再求和\n",
    "    attribute_ig,delta = ig.attribute(\n",
    "        input_embedding,reference_embedding,n_steps=500,return_convergence_delta=True\n",
    "    )\n",
    "    print('attribute_ig',attribute_ig.size(),delta.size())\n",
    "    print('pred',LABEL.vocab.itos[pred_ind],'(','%.2f'%pred,')','delta:',abs(delta))\n",
    "    # 加入可视化记录\n",
    "    add_attributions_to_visualize(attribute_ig, text, pred, pred_ind, label, delta, vis_data_records_ig)\n",
    "# 解释性结果加入可视化记录\n",
    "def add_attributions_to_visualize(attributions,text,pred,pred_ind,label,delta,vis_data_records):\n",
    "    attributions = attributions.sum(dim=2).squeeze(0)\n",
    "    attributions = attributions/torch.norm(attributions)\n",
    "    attributions = attributions.detach().numpy()\n",
    "    # 结果添加到表里\n",
    "    vis_data_records.append(visualization.VisualizationDataRecord(\n",
    "        attributions,\n",
    "        pred,\n",
    "        LABEL.vocab.itos[pred_ind],\n",
    "        LABEL.vocab.itos[label],\n",
    "        LABEL.vocab.itos[1],\n",
    "        attributions.sum(),\n",
    "        text[:len(attributions)],\n",
    "        delta))\n",
    "\n",
    "# 输入句子测试\n",
    "interpret_sentence(model, 'It was a fantastic performance !', label=1)\n",
    "\n",
    "interpret_sentence(model, 'The film is very good！', label=1)\n",
    "\n",
    "interpret_sentence(model, 'I think this film is not very bad！', label=1)"
   ]
  },
  {
   "cell_type": "code",
   "execution_count": 2,
   "metadata": {},
   "outputs": [
    {
     "data": {
      "text/html": [
       "<table width: 100%><div style=\"border-top: 1px solid; margin-top: 5px;             padding-top: 5px; display: inline-block\"><b>Legend: </b><span style=\"display: inline-block; width: 10px; height: 10px;                 border: 1px solid; background-color:                 hsl(0, 75%, 60%)\"></span> Negative  <span style=\"display: inline-block; width: 10px; height: 10px;                 border: 1px solid; background-color:                 hsl(0, 75%, 100%)\"></span> Neutral  <span style=\"display: inline-block; width: 10px; height: 10px;                 border: 1px solid; background-color:                 hsl(120, 75%, 50%)\"></span> Positive  </div><tr><th>True Label</th><th>Predicted Label</th><th>Attribution Label</th><th>Attribution Score</th><th>Word Importance</th><tr><td><text style=\"padding-right:2em\"><b>pos</b></text></td><td><text style=\"padding-right:2em\"><b>pos (0.98)</b></text></td><td><text style=\"padding-right:2em\"><b>pos</b></text></td><td><text style=\"padding-right:2em\"><b>1.09</b></text></td><td><mark style=\"background-color: hsl(120, 75%, 97%); opacity:1.0;                     line-height:1.75\"><font color=\"black\"> it                    </font></mark><mark style=\"background-color: hsl(0, 75%, 95%); opacity:1.0;                     line-height:1.75\"><font color=\"black\"> was                    </font></mark><mark style=\"background-color: hsl(0, 75%, 96%); opacity:1.0;                     line-height:1.75\"><font color=\"black\"> a                    </font></mark><mark style=\"background-color: hsl(120, 75%, 54%); opacity:1.0;                     line-height:1.75\"><font color=\"black\"> fantastic                    </font></mark><mark style=\"background-color: hsl(120, 75%, 84%); opacity:1.0;                     line-height:1.75\"><font color=\"black\"> performance                    </font></mark><mark style=\"background-color: hsl(120, 75%, 99%); opacity:1.0;                     line-height:1.75\"><font color=\"black\"> !                    </font></mark><mark style=\"background-color: hsl(0, 75%, 100%); opacity:1.0;                     line-height:1.75\"><font color=\"black\"> #pad                    </font></mark></td><tr><tr><td><text style=\"padding-right:2em\"><b>pos</b></text></td><td><text style=\"padding-right:2em\"><b>pos (0.88)</b></text></td><td><text style=\"padding-right:2em\"><b>pos</b></text></td><td><text style=\"padding-right:2em\"><b>0.93</b></text></td><td><mark style=\"background-color: hsl(0, 75%, 97%); opacity:1.0;                     line-height:1.75\"><font color=\"black\"> the                    </font></mark><mark style=\"background-color: hsl(0, 75%, 99%); opacity:1.0;                     line-height:1.75\"><font color=\"black\"> film                    </font></mark><mark style=\"background-color: hsl(120, 75%, 100%); opacity:1.0;                     line-height:1.75\"><font color=\"black\"> is                    </font></mark><mark style=\"background-color: hsl(120, 75%, 80%); opacity:1.0;                     line-height:1.75\"><font color=\"black\"> very                    </font></mark><mark style=\"background-color: hsl(120, 75%, 57%); opacity:1.0;                     line-height:1.75\"><font color=\"black\"> good                    </font></mark><mark style=\"background-color: hsl(0, 75%, 91%); opacity:1.0;                     line-height:1.75\"><font color=\"black\"> ！                    </font></mark><mark style=\"background-color: hsl(0, 75%, 100%); opacity:1.0;                     line-height:1.75\"><font color=\"black\"> #pad                    </font></mark></td><tr><tr><td><text style=\"padding-right:2em\"><b>pos</b></text></td><td><text style=\"padding-right:2em\"><b>neg (0.43)</b></text></td><td><text style=\"padding-right:2em\"><b>pos</b></text></td><td><text style=\"padding-right:2em\"><b>-0.38</b></text></td><td><mark style=\"background-color: hsl(0, 75%, 99%); opacity:1.0;                     line-height:1.75\"><font color=\"black\"> i                    </font></mark><mark style=\"background-color: hsl(0, 75%, 98%); opacity:1.0;                     line-height:1.75\"><font color=\"black\"> think                    </font></mark><mark style=\"background-color: hsl(120, 75%, 98%); opacity:1.0;                     line-height:1.75\"><font color=\"black\"> this                    </font></mark><mark style=\"background-color: hsl(120, 75%, 91%); opacity:1.0;                     line-height:1.75\"><font color=\"black\"> film                    </font></mark><mark style=\"background-color: hsl(0, 75%, 99%); opacity:1.0;                     line-height:1.75\"><font color=\"black\"> is                    </font></mark><mark style=\"background-color: hsl(120, 75%, 81%); opacity:1.0;                     line-height:1.75\"><font color=\"black\"> not                    </font></mark><mark style=\"background-color: hsl(0, 75%, 97%); opacity:1.0;                     line-height:1.75\"><font color=\"black\"> very                    </font></mark><mark style=\"background-color: hsl(0, 75%, 65%); opacity:1.0;                     line-height:1.75\"><font color=\"black\"> bad                    </font></mark><mark style=\"background-color: hsl(120, 75%, 96%); opacity:1.0;                     line-height:1.75\"><font color=\"black\"> ！                    </font></mark></td><tr></table>"
      ],
      "text/plain": [
       "<IPython.core.display.HTML object>"
      ]
     },
     "metadata": {},
     "output_type": "display_data"
    },
    {
     "name": "stdout",
     "output_type": "stream",
     "text": [
      "saved table in a.html\n"
     ]
    },
    {
     "data": {
      "text/html": [
       "<table width: 100%><div style=\"border-top: 1px solid; margin-top: 5px;             padding-top: 5px; display: inline-block\"><b>Legend: </b><span style=\"display: inline-block; width: 10px; height: 10px;                 border: 1px solid; background-color:                 hsl(0, 75%, 60%)\"></span> Negative  <span style=\"display: inline-block; width: 10px; height: 10px;                 border: 1px solid; background-color:                 hsl(0, 75%, 100%)\"></span> Neutral  <span style=\"display: inline-block; width: 10px; height: 10px;                 border: 1px solid; background-color:                 hsl(120, 75%, 50%)\"></span> Positive  </div><tr><th>True Label</th><th>Predicted Label</th><th>Attribution Label</th><th>Attribution Score</th><th>Word Importance</th><tr><td><text style=\"padding-right:2em\"><b>pos</b></text></td><td><text style=\"padding-right:2em\"><b>pos (0.98)</b></text></td><td><text style=\"padding-right:2em\"><b>pos</b></text></td><td><text style=\"padding-right:2em\"><b>1.09</b></text></td><td><mark style=\"background-color: hsl(120, 75%, 97%); opacity:1.0;                     line-height:1.75\"><font color=\"black\"> it                    </font></mark><mark style=\"background-color: hsl(0, 75%, 95%); opacity:1.0;                     line-height:1.75\"><font color=\"black\"> was                    </font></mark><mark style=\"background-color: hsl(0, 75%, 96%); opacity:1.0;                     line-height:1.75\"><font color=\"black\"> a                    </font></mark><mark style=\"background-color: hsl(120, 75%, 54%); opacity:1.0;                     line-height:1.75\"><font color=\"black\"> fantastic                    </font></mark><mark style=\"background-color: hsl(120, 75%, 84%); opacity:1.0;                     line-height:1.75\"><font color=\"black\"> performance                    </font></mark><mark style=\"background-color: hsl(120, 75%, 99%); opacity:1.0;                     line-height:1.75\"><font color=\"black\"> !                    </font></mark><mark style=\"background-color: hsl(0, 75%, 100%); opacity:1.0;                     line-height:1.75\"><font color=\"black\"> #pad                    </font></mark></td><tr><tr><td><text style=\"padding-right:2em\"><b>pos</b></text></td><td><text style=\"padding-right:2em\"><b>pos (0.88)</b></text></td><td><text style=\"padding-right:2em\"><b>pos</b></text></td><td><text style=\"padding-right:2em\"><b>0.93</b></text></td><td><mark style=\"background-color: hsl(0, 75%, 97%); opacity:1.0;                     line-height:1.75\"><font color=\"black\"> the                    </font></mark><mark style=\"background-color: hsl(0, 75%, 99%); opacity:1.0;                     line-height:1.75\"><font color=\"black\"> film                    </font></mark><mark style=\"background-color: hsl(120, 75%, 100%); opacity:1.0;                     line-height:1.75\"><font color=\"black\"> is                    </font></mark><mark style=\"background-color: hsl(120, 75%, 80%); opacity:1.0;                     line-height:1.75\"><font color=\"black\"> very                    </font></mark><mark style=\"background-color: hsl(120, 75%, 57%); opacity:1.0;                     line-height:1.75\"><font color=\"black\"> good                    </font></mark><mark style=\"background-color: hsl(0, 75%, 91%); opacity:1.0;                     line-height:1.75\"><font color=\"black\"> ！                    </font></mark><mark style=\"background-color: hsl(0, 75%, 100%); opacity:1.0;                     line-height:1.75\"><font color=\"black\"> #pad                    </font></mark></td><tr><tr><td><text style=\"padding-right:2em\"><b>pos</b></text></td><td><text style=\"padding-right:2em\"><b>neg (0.43)</b></text></td><td><text style=\"padding-right:2em\"><b>pos</b></text></td><td><text style=\"padding-right:2em\"><b>-0.38</b></text></td><td><mark style=\"background-color: hsl(0, 75%, 99%); opacity:1.0;                     line-height:1.75\"><font color=\"black\"> i                    </font></mark><mark style=\"background-color: hsl(0, 75%, 98%); opacity:1.0;                     line-height:1.75\"><font color=\"black\"> think                    </font></mark><mark style=\"background-color: hsl(120, 75%, 98%); opacity:1.0;                     line-height:1.75\"><font color=\"black\"> this                    </font></mark><mark style=\"background-color: hsl(120, 75%, 91%); opacity:1.0;                     line-height:1.75\"><font color=\"black\"> film                    </font></mark><mark style=\"background-color: hsl(0, 75%, 99%); opacity:1.0;                     line-height:1.75\"><font color=\"black\"> is                    </font></mark><mark style=\"background-color: hsl(120, 75%, 81%); opacity:1.0;                     line-height:1.75\"><font color=\"black\"> not                    </font></mark><mark style=\"background-color: hsl(0, 75%, 97%); opacity:1.0;                     line-height:1.75\"><font color=\"black\"> very                    </font></mark><mark style=\"background-color: hsl(0, 75%, 65%); opacity:1.0;                     line-height:1.75\"><font color=\"black\"> bad                    </font></mark><mark style=\"background-color: hsl(120, 75%, 96%); opacity:1.0;                     line-height:1.75\"><font color=\"black\"> ！                    </font></mark></td><tr></table>"
      ],
      "text/plain": [
       "<IPython.core.display.HTML object>"
      ]
     },
     "execution_count": 2,
     "metadata": {},
     "output_type": "execute_result"
    }
   ],
   "source": [
    "#根据可视化记录生成网页\n",
    "visualization.visualize_text(vis_data_records_ig)\n",
    "# 修改captum\\attr/_utils/visualization.py\n",
    "# with open('a.html','w+') as f:\n",
    "#     f.write((\"\".join(dom)))\n",
    "# print('saved table in a.html')"
   ]
  },
  {
   "cell_type": "code",
   "execution_count": 3,
   "metadata": {},
   "outputs": [],
   "source": [
    "#还原模型的词嵌入层\n",
    "remove_interpretable_embedding_layer(model, interpretable_embedding)"
   ]
  }
 ],
 "metadata": {
  "interpreter": {
   "hash": "31f2aee4e71d21fbe5cf8b01ff0e069b9275f58929596ceb00d14d90e3e16cd6"
  },
  "kernelspec": {
   "display_name": "Python 3.6.9 64-bit",
   "language": "python",
   "name": "python3"
  },
  "language_info": {
   "codemirror_mode": {
    "name": "ipython",
    "version": 3
   },
   "file_extension": ".py",
   "mimetype": "text/x-python",
   "name": "python",
   "nbconvert_exporter": "python",
   "pygments_lexer": "ipython3",
   "version": "3.6.9"
  },
  "orig_nbformat": 4
 },
 "nbformat": 4,
 "nbformat_minor": 2
}
