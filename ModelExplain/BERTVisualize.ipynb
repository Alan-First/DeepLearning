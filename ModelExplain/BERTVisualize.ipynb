{
 "cells": [
  {
   "cell_type": "code",
   "execution_count": null,
   "metadata": {},
   "outputs": [],
   "source": [
    "#!/usr/bin/env python\n",
    "# -*- encoding: utf-8 -*-\n",
    "'''\n",
    "@File         :BERTVisualize.ipynb\n",
    "@Description  :\n",
    "@Time         :2022/04/30 23:35:08\n",
    "@Author       :Hedwig\n",
    "@Version      :1.0\n",
    "'''"
   ]
  },
  {
   "cell_type": "code",
   "execution_count": null,
   "metadata": {},
   "outputs": [],
   "source": [
    "# Bertviz是专门分析BERT模型权值的可解释性工具，它完全兼容Transformer库的模型和接口\n",
    "# 目前没有提供安装包，开源链接地址：https://github.com/jessevig/bertviz"
   ]
  }
 ],
 "metadata": {
  "language_info": {
   "name": "python"
  },
  "orig_nbformat": 4
 },
 "nbformat": 4,
 "nbformat_minor": 2
}
