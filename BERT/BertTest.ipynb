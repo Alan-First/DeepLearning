{
 "cells": [
  {
   "cell_type": "code",
   "execution_count": 1,
   "metadata": {},
   "outputs": [],
   "source": [
    "import torch\n",
    "import torch.nn as nn\n",
    "import torch.optim as optim\n",
    "from transformers import BertTokenizer,BertModel\n",
    "from torchtext.legacy import data,datasets\n",
    "import numpy as np\n",
    "import random\n",
    "import time\n",
    "\n",
    "\n",
    "SEED = 2022\n",
    "TRAIN = False\n",
    "BATCH_SIZE=128\n",
    "N_EPOCHS=5\n",
    "HIDDEN_DIM=256\n",
    "OUTPUT_DIM=1\n",
    "N_LAYERS=2\n",
    "BIDIRECTIONAL=True\n",
    "DROPOUT=0.25\n",
    "\n",
    "random.seed(SEED)\n",
    "np.random.seed(SEED)\n",
    "torch.manual_seed(SEED)\n",
    "torch.backends.cudnn.deterministic=True"
   ]
  },
  {
   "cell_type": "code",
   "execution_count": 3,
   "metadata": {},
   "outputs": [],
   "source": [
    "# 通过类的静态方法获取对象,这是预训练的对象\n",
    "tokenizer = BertTokenizer.from_pretrained('bert-base-uncased')"
   ]
  },
  {
   "cell_type": "code",
   "execution_count": 4,
   "metadata": {},
   "outputs": [
    {
     "name": "stdout",
     "output_type": "stream",
     "text": [
      "init_token_id 101\n",
      "eos_token_id 102\n",
      "pad_token_id 0\n",
      "unk_token_id 100\n"
     ]
    }
   ],
   "source": [
    "init_token_id = tokenizer.cls_token_id\n",
    "eos_token_id = tokenizer.sep_token_id\n",
    "pad_token_id = tokenizer.pad_token_id\n",
    "unk_token_id = tokenizer.unk_token_id\n",
    "print('init_token_id',init_token_id)\n",
    "print('eos_token_id',eos_token_id)\n",
    "print('pad_token_id',pad_token_id)\n",
    "print('unk_token_id',unk_token_id)"
   ]
  },
  {
   "cell_type": "code",
   "execution_count": 5,
   "metadata": {},
   "outputs": [
    {
     "name": "stdout",
     "output_type": "stream",
     "text": [
      "max_input_len 512\n"
     ]
    }
   ],
   "source": [
    "max_input_len = tokenizer.max_model_input_sizes['bert-base-uncased']# bert的输入句子长度\n",
    "print('max_input_len',max_input_len)"
   ]
  },
  {
   "cell_type": "code",
   "execution_count": 8,
   "metadata": {},
   "outputs": [],
   "source": [
    "device='cuda' if torch.cuda.is_available() else 'cpu'\n",
    "# 把句子长度切成510，加入开头跟结尾符\n",
    "def tokenize_and_crop(sentence):\n",
    "    tokens = tokenizer.tokenize(sentence)\n",
    "    tokens = tokens[:max_input_len-2]\n",
    "    return tokens\n",
    "\n",
    "def load_data():\n",
    "    text = data.Field(\n",
    "        batch_first=True,\n",
    "        use_vocab=False,\n",
    "        tokenize=tokenize_and_crop,\n",
    "        preprocessing=tokenizer.convert_tokens_to_ids,\n",
    "        init_token=init_token_id,\n",
    "        pad_token=pad_token_id,\n",
    "        unk_token=unk_token_id\n",
    "    )\n",
    "    label = data.LabelField(dtype=torch.float)\n",
    "    # 对于自己的数据集可以修改IMDB，对外调用只要\n",
    "    train_data,test_data = datasets.IMDB.splits(text,label)\n",
    "    print(train_data)\n",
    "    train_data,valid_data = train_data.split(random_state=random.seed(SEED))\n",
    "    print(f'train examples counts:{len(train_data)}')\n",
    "    print(f'test examples counts:{len(test_data)}')\n",
    "    print(f'valid examples counts:{len(valid_data)}')\n",
    "\n",
    "    label.build_vocab(train_data)\n",
    "\n",
    "    train_iter,valid_iter,test_iter = data.BucketIterator.splits(\n",
    "        (train_data,valid_data,test_data),\n",
    "        batch_sizes=BATCH_SIZE,\n",
    "        device=device\n",
    "        )\n",
    "    return train_iter,valid_iter,test_iter\n",
    "\n",
    "res = load_data()"
   ]
  },
  {
   "cell_type": "code",
   "execution_count": 9,
   "metadata": {},
   "outputs": [
    {
     "name": "stdout",
     "output_type": "stream",
     "text": [
      "train examples counts:17500\n",
      "test examples counts:25000\n",
      "valid examples counts:7500\n"
     ]
    }
   ],
   "source": [
    "# 查看loaddata内部实现\n",
    "text = data.Field(\n",
    "    batch_first=True,\n",
    "    use_vocab=False,\n",
    "    tokenize=tokenize_and_crop,\n",
    "    preprocessing=tokenizer.convert_tokens_to_ids,\n",
    "    init_token=init_token_id,\n",
    "    pad_token=pad_token_id,\n",
    "    unk_token=unk_token_id\n",
    ")\n",
    "label = data.LabelField(dtype=torch.float)\n",
    "train_data,test_data = datasets.IMDB.splits(text,label)\n",
    "train_data,valid_data = train_data.split(random_state=random.seed(SEED))\n",
    "print(f'train examples counts:{len(train_data)}')\n",
    "print(f'test examples counts:{len(test_data)}')\n",
    "print(f'valid examples counts:{len(valid_data)}')"
   ]
  },
  {
   "cell_type": "code",
   "execution_count": 10,
   "metadata": {},
   "outputs": [
    {
     "data": {
      "text/plain": [
       "<torchtext.legacy.vocab.Vocab at 0x7f9972900518>"
      ]
     },
     "execution_count": 10,
     "metadata": {},
     "output_type": "execute_result"
    }
   ],
   "source": [
    "label.build_vocab(train_data)\n",
    "label.vocab"
   ]
  },
  {
   "cell_type": "code",
   "execution_count": 19,
   "metadata": {},
   "outputs": [
    {
     "data": {
      "text/plain": [
       "<torchtext.legacy.data.dataset.Dataset at 0x7fa258d61ef0>"
      ]
     },
     "execution_count": 19,
     "metadata": {},
     "output_type": "execute_result"
    }
   ],
   "source": [
    "# 这部分测试classmethod"
   ]
  }
 ],
 "metadata": {
  "interpreter": {
   "hash": "1b017355a4752bc1577057245fdd1c97cf874764b5f4d691eddaa87146c57fbd"
  },
  "kernelspec": {
   "display_name": "Python 3.7.4 ('base')",
   "language": "python",
   "name": "python3"
  },
  "language_info": {
   "codemirror_mode": {
    "name": "ipython",
    "version": 3
   },
   "file_extension": ".py",
   "mimetype": "text/x-python",
   "name": "python",
   "nbconvert_exporter": "python",
   "pygments_lexer": "ipython3",
   "version": "3.6.9"
  },
  "orig_nbformat": 4
 },
 "nbformat": 4,
 "nbformat_minor": 2
}
