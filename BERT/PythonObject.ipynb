{
 "cells": [
  {
   "cell_type": "code",
   "execution_count": null,
   "metadata": {},
   "outputs": [],
   "source": [
    "class Animal:\n",
    "    def test(self):\n",
    "        pass\n",
    "\n",
    "Animal.__dict__"
   ]
  },
  {
   "cell_type": "code",
   "execution_count": null,
   "metadata": {},
   "outputs": [],
   "source": [
    "class NameDesc:\n",
    "    def __get__(self, instance, cls):\n",
    "        print('NameDesc.__get__:', self, instance, cls)\n",
    "        if instance is None: #通过类访问描述器的时候，instance为None\n",
    "            return self\n",
    "        else:\n",
    "            return instance.__dict__['_name']\n",
    "\n",
    "    def __set__(self, instance, value):\n",
    "        print('NameDesc.__set__:', self, instance, value)\n",
    "        if not isinstance(value, str):\n",
    "            raise TypeError('expect str')\n",
    "        instance.__dict__['_name'] = value\n",
    "\n",
    "class Person:\n",
    "    name = NameDesc()\n",
    "\n",
    "p = Person()\n",
    "\n",
    "p.name = 'zhang'\n",
    "print(p.name)\n",
    "print(Person.name)"
   ]
  }
 ],
 "metadata": {
  "interpreter": {
   "hash": "31f2aee4e71d21fbe5cf8b01ff0e069b9275f58929596ceb00d14d90e3e16cd6"
  },
  "kernelspec": {
   "display_name": "Python 3.6.9 64-bit",
   "language": "python",
   "name": "python3"
  },
  "language_info": {
   "codemirror_mode": {
    "name": "ipython",
    "version": 3
   },
   "file_extension": ".py",
   "mimetype": "text/x-python",
   "name": "python",
   "nbconvert_exporter": "python",
   "pygments_lexer": "ipython3",
   "version": "3.6.9"
  },
  "orig_nbformat": 4
 },
 "nbformat": 4,
 "nbformat_minor": 2
}
